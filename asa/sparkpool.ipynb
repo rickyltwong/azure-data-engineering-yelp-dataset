{
  "cells": [
    {
      "cell_type": "markdown",
      "metadata": {},
      "source": [
        "# Environmental Setup"
      ]
    },
    {
      "cell_type": "code",
      "execution_count": 2,
      "metadata": {
        "jupyter": {
          "outputs_hidden": false,
          "source_hidden": false
        },
        "microsoft": {},
        "nteract": {
          "transient": {
            "deleting": false
          }
        }
      },
      "outputs": [
        {
          "data": {
            "application/vnd.livy.statement-meta+json": {
              "execution_finish_time": "2024-04-01T14:00:08.4125365Z",
              "execution_start_time": "2024-04-01T14:00:08.2594705Z",
              "livy_statement_state": "available",
              "parent_msg_id": "b9fcf651-17be-41c9-9bc7-c0e38177e089",
              "queued_time": "2024-04-01T13:59:45.9737069Z",
              "session_id": "4",
              "session_start_time": null,
              "spark_jobs": null,
              "spark_pool": "dtcdezcasparkp",
              "state": "finished",
              "statement_id": 4
            },
            "text/plain": [
              "StatementMeta(dtcdezcasparkp, 4, 4, Finished, Available)"
            ]
          },
          "metadata": {},
          "output_type": "display_data"
        }
      ],
      "source": [
        "from pyspark.sql.functions import *\n",
        "from pyspark.sql.types import *"
      ]
    },
    {
      "cell_type": "code",
      "execution_count": 3,
      "metadata": {
        "jupyter": {
          "outputs_hidden": false,
          "source_hidden": false
        },
        "nteract": {
          "transient": {
            "deleting": false
          }
        }
      },
      "outputs": [
        {
          "data": {
            "application/vnd.livy.statement-meta+json": {
              "execution_finish_time": "2024-04-01T14:00:12.2071106Z",
              "execution_start_time": "2024-04-01T14:00:12.0515436Z",
              "livy_statement_state": "available",
              "parent_msg_id": "a7008330-8ab2-4289-8f6c-c580522e4f51",
              "queued_time": "2024-04-01T14:00:11.9211556Z",
              "session_id": "4",
              "session_start_time": null,
              "spark_jobs": null,
              "spark_pool": "dtcdezcasparkp",
              "state": "finished",
              "statement_id": 5
            },
            "text/plain": [
              "StatementMeta(dtcdezcasparkp, 4, 5, Finished, Available)"
            ]
          },
          "metadata": {},
          "output_type": "display_data"
        }
      ],
      "source": [
        "spark.conf.set(\"spark.sql.legacy.timeParserPolicy\", \"LEGACY\")"
      ]
    },
    {
      "cell_type": "code",
      "execution_count": null,
      "metadata": {},
      "outputs": [],
      "source": [
        "tipSchema = StructType([\n",
        "    StructField(\"text\", StringType(), True),\n",
        "    StructField(\"date\", StringType(), True),\n",
        "    StructField(\"compliment_count\", IntegerType(), True),\n",
        "    StructField(\"business_id\", StringType(), True),\n",
        "    StructField(\"user_id\", StringType(), True)\n",
        "])\n",
        "\n",
        "checkinSchema = StructType([\n",
        "    StructField(\"business_id\", StringType(), True),\n",
        "    StructField(\"date\", StringType(), True)\n",
        "])\n",
        "\n",
        "userSchema = StructType([\n",
        "    StructField(\"user_id\", StringType(), True),\n",
        "    StructField(\"name\", StringType(), True),\n",
        "    StructField(\"review_count\", IntegerType(), True),\n",
        "    StructField(\"yelping_since\", StringType(), True),  \n",
        "    StructField(\"friends\", StringType(), True),\n",
        "    StructField(\"useful\", IntegerType(), True),\n",
        "    StructField(\"funny\", IntegerType(), True),\n",
        "    StructField(\"cool\", IntegerType(), True),\n",
        "    StructField(\"fans\", IntegerType(), True),\n",
        "    StructField(\"elite\", StringType(), True),\n",
        "    StructField(\"average_stars\", FloatType(), True),\n",
        "    StructField(\"compliment_hot\", IntegerType(), True),\n",
        "    StructField(\"compliment_more\", IntegerType(), True),\n",
        "    StructField(\"compliment_profile\", IntegerType(), True),\n",
        "    StructField(\"compliment_cute\", IntegerType(), True),\n",
        "    StructField(\"compliment_list\", IntegerType(), True),\n",
        "    StructField(\"compliment_note\", IntegerType(), True),\n",
        "    StructField(\"compliment_plain\", IntegerType(), True),\n",
        "    StructField(\"compliment_cool\", IntegerType(), True),\n",
        "    StructField(\"compliment_funny\", IntegerType(), True),\n",
        "    StructField(\"compliment_writer\", IntegerType(), True),\n",
        "    StructField(\"compliment_photos\", IntegerType(), True)\n",
        "])\n",
        "\n",
        "business_parking_schema = StructType([\n",
        "    StructField(\"garage\", BooleanType(), True),\n",
        "    StructField(\"street\", BooleanType(), True),\n",
        "    StructField(\"validated\", BooleanType(), True),\n",
        "    StructField(\"lot\", BooleanType(), True),\n",
        "    StructField(\"valet\", BooleanType(), True),\n",
        "])\n",
        "\n",
        "attributes_schema = StructType([\n",
        "    StructField(\"RestaurantsTakeOut\", BooleanType(), True),\n",
        "    StructField(\"BusinessParking\", business_parking_schema, True),\n",
        "])\n",
        "\n",
        "businessSchema = StructType([\n",
        "    StructField(\"business_id\", StringType(), True),\n",
        "    StructField(\"name\", StringType(), True),\n",
        "    StructField(\"address\", StringType(), True),\n",
        "    StructField(\"city\", StringType(), True),\n",
        "    StructField(\"state\", StringType(), True),\n",
        "    StructField(\"postal code\", StringType(), True),\n",
        "    StructField(\"latitude\", FloatType(), True),\n",
        "    StructField(\"longitude\", FloatType(), True),\n",
        "    StructField(\"stars\", FloatType(), True),\n",
        "    StructField(\"review_count\", IntegerType(), True),\n",
        "    StructField(\"is_open\", IntegerType(), True),\n",
        "    StructField(\"attributes\", attributes_schema, True),\n",
        "    StructField(\"categories\", StringType(), True),\n",
        "    StructField(\"hours\", MapType(StringType(), StringType()), True)\n",
        "])\n"
      ]
    },
    {
      "cell_type": "code",
      "execution_count": 4,
      "metadata": {
        "microsoft": {}
      },
      "outputs": [
        {
          "data": {
            "application/vnd.livy.statement-meta+json": {
              "execution_finish_time": "2024-04-01T14:00:16.6005377Z",
              "execution_start_time": "2024-04-01T14:00:13.7661835Z",
              "livy_statement_state": "available",
              "parent_msg_id": "5b1ea6c7-178f-488e-9509-787173fa5c76",
              "queued_time": "2024-04-01T14:00:13.59073Z",
              "session_id": "4",
              "session_start_time": null,
              "spark_jobs": null,
              "spark_pool": "dtcdezcasparkp",
              "state": "finished",
              "statement_id": 6
            },
            "text/plain": [
              "StatementMeta(dtcdezcasparkp, 4, 6, Finished, Available)"
            ]
          },
          "metadata": {},
          "output_type": "display_data"
        }
      ],
      "source": [
        "tip_df = spark.read.schema(tipSchema).option(\"multiLine\", \"false\").load('abfss://dtcdezca-adls@dtcdezcasa.dfs.core.windows.net/yelp_academic_dataset_tip.json', format='json')\n",
        "tip_df = tip_df.withColumn(\"date\", to_date(\"date\", \"yyyy-MM-dd\"))"
      ]
    },
    {
      "cell_type": "code",
      "execution_count": 5,
      "metadata": {
        "jupyter": {
          "outputs_hidden": false,
          "source_hidden": false
        },
        "microsoft": {},
        "nteract": {
          "transient": {
            "deleting": false
          }
        }
      },
      "outputs": [
        {
          "data": {
            "application/vnd.livy.statement-meta+json": {
              "execution_finish_time": "2024-04-01T14:00:19.5521852Z",
              "execution_start_time": "2024-04-01T14:00:19.0246315Z",
              "livy_statement_state": "available",
              "parent_msg_id": "069bc784-8cea-498b-bdb3-f79249146b7d",
              "queued_time": "2024-04-01T14:00:18.8676414Z",
              "session_id": "4",
              "session_start_time": null,
              "spark_jobs": null,
              "spark_pool": "dtcdezcasparkp",
              "state": "finished",
              "statement_id": 7
            },
            "text/plain": [
              "StatementMeta(dtcdezcasparkp, 4, 7, Finished, Available)"
            ]
          },
          "metadata": {},
          "output_type": "display_data"
        }
      ],
      "source": [
        "checkin_df = spark.read.schema(checkinSchema).option(\"multiLine\", \"false\").load('abfss://dtcdezca-adls@dtcdezcasa.dfs.core.windows.net/yelp_academic_dataset_checkin.json', format='json')\n",
        "\n",
        "checkin_df = checkin_df.withColumn(\"date\", explode(split(\"date\", \", \")))\n",
        "checkin_df = checkin_df.withColumn(\"date\", to_timestamp(\"date\", \"yyyy-MM-dd HH:mm:ss\"))"
      ]
    },
    {
      "cell_type": "code",
      "execution_count": 6,
      "metadata": {
        "jupyter": {
          "outputs_hidden": false,
          "source_hidden": false
        },
        "nteract": {
          "transient": {
            "deleting": false
          }
        }
      },
      "outputs": [
        {
          "data": {
            "application/vnd.livy.statement-meta+json": {
              "execution_finish_time": "2024-04-01T14:00:21.6497554Z",
              "execution_start_time": "2024-04-01T14:00:21.4590501Z",
              "livy_statement_state": "available",
              "parent_msg_id": "17269b8e-32c2-4141-96f9-79b29ad6d4e6",
              "queued_time": "2024-04-01T14:00:21.2888291Z",
              "session_id": "4",
              "session_start_time": null,
              "spark_jobs": null,
              "spark_pool": "dtcdezcasparkp",
              "state": "finished",
              "statement_id": 8
            },
            "text/plain": [
              "StatementMeta(dtcdezcasparkp, 4, 8, Finished, Available)"
            ]
          },
          "metadata": {},
          "output_type": "display_data"
        },
        {
          "name": "stdout",
          "output_type": "stream",
          "text": [
            "root\n",
            " |-- text: string (nullable = true)\n",
            " |-- date: date (nullable = true)\n",
            " |-- compliment_count: integer (nullable = true)\n",
            " |-- business_id: string (nullable = true)\n",
            " |-- user_id: string (nullable = true)\n",
            "\n"
          ]
        }
      ],
      "source": [
        "tip_df.printSchema()"
      ]
    },
    {
      "cell_type": "code",
      "execution_count": 7,
      "metadata": {
        "jupyter": {
          "outputs_hidden": false,
          "source_hidden": false
        },
        "nteract": {
          "transient": {
            "deleting": false
          }
        }
      },
      "outputs": [
        {
          "data": {
            "application/vnd.livy.statement-meta+json": {
              "execution_finish_time": "2024-04-01T14:00:24.0667463Z",
              "execution_start_time": "2024-04-01T14:00:23.9176385Z",
              "livy_statement_state": "available",
              "parent_msg_id": "fffb12f8-98a7-45b6-bff5-4b8abfd65ea9",
              "queued_time": "2024-04-01T14:00:23.7753823Z",
              "session_id": "4",
              "session_start_time": null,
              "spark_jobs": null,
              "spark_pool": "dtcdezcasparkp",
              "state": "finished",
              "statement_id": 9
            },
            "text/plain": [
              "StatementMeta(dtcdezcasparkp, 4, 9, Finished, Available)"
            ]
          },
          "metadata": {},
          "output_type": "display_data"
        },
        {
          "name": "stdout",
          "output_type": "stream",
          "text": [
            "root\n",
            " |-- business_id: string (nullable = true)\n",
            " |-- date: timestamp (nullable = true)\n",
            "\n"
          ]
        }
      ],
      "source": [
        "checkin_df.printSchema()"
      ]
    },
    {
      "cell_type": "code",
      "execution_count": 8,
      "metadata": {
        "collapsed": false,
        "jupyter": {
          "outputs_hidden": false,
          "source_hidden": false
        },
        "nteract": {
          "transient": {
            "deleting": false
          }
        }
      },
      "outputs": [
        {
          "data": {
            "application/vnd.livy.statement-meta+json": {
              "execution_finish_time": "2024-04-01T14:00:44.4217152Z",
              "execution_start_time": "2024-04-01T14:00:25.6637032Z",
              "livy_statement_state": "available",
              "parent_msg_id": "2be080aa-a538-4a05-9e75-826589b9492b",
              "queued_time": "2024-04-01T14:00:25.5343083Z",
              "session_id": "4",
              "session_start_time": null,
              "spark_jobs": null,
              "spark_pool": "dtcdezcasparkp",
              "state": "finished",
              "statement_id": 10
            },
            "text/plain": [
              "StatementMeta(dtcdezcasparkp, 4, 10, Finished, Available)"
            ]
          },
          "metadata": {},
          "output_type": "display_data"
        },
        {
          "name": "stdout",
          "output_type": "stream",
          "text": [
            "+--------------------+----------+----------------+--------------------+--------------------+\n",
            "|                text|      date|compliment_count|         business_id|             user_id|\n",
            "+--------------------+----------+----------------+--------------------+--------------------+\n",
            "|Great breakfast b...|2016-08-01|               0|vaYy-IWyfh1ILji0l...|e67fm29pOiQUcPSlt...|\n",
            "|Pizza with the He...|2012-03-18|               0|95d60_mjUg2kLy-bh...|5a7o8Z_jc1pabjavU...|\n",
            "|Don't miss it, it...|2013-05-31|               0|jiGj-UE_2I2-An5IF...|6s5whJLSvZFIF0Am4...|\n",
            "|The bakery items ...|2016-01-29|               0|YcP6XiXITpQY-RvL-...|fr1Hz2acAb3OaL3l6...|\n",
            "|If you're looking...|2015-02-16|               0|8yR12PNSMo6FBYx1u...|4kVVUp5yxMohjW0s_...|\n",
            "|Skip the soft dri...|2011-04-17|               0|AaTpjyw-EiODgi3tR...|vBFtIlBirAvgbTrxE...|\n",
            "|Love the green cu...|2014-04-21|               0|vUkiYPpbkMXA99Wne...|QCrW0zYvHcWjtN0Wq...|\n",
            "|Mmmmmm....... Del...|2011-04-09|               0|znEBYAqf13IBMNLO6...|t4WMFl5MMg0HcorAO...|\n",
            "|Classic neighborh...|2011-01-15|               0|g05xfig52OQmKgmaV...|2WuJy0fJckCVuVXIm...|\n",
            "|Cute place for a ...|2009-07-09|               0|rpFT0AX5kqMdtbdNH...|45Za0-djDjG3nk4zS...|\n",
            "|    Getting spoiled.|2012-03-17|               0|oBraN0DVMwQvk4jbg...|_ntA5HPDzqBgwg7S3...|\n",
            "|Omelettes are gre...|2010-11-28|               0|jkGQQ4_LgJx3hwPtC...|y0olM6UE4xddQ8qgQ...|\n",
            "|I'm Costco obsess...|2017-09-23|               0|yzcZ0VkgyxmiH5M_8...|0sFn-EV4hAoMLXUoD...|\n",
            "|the cups leak fro...|2015-01-19|               0|GphUtL7kAHxd1CXxn...|GXqCL5Vx8yM5m-KOZ...|\n",
            "|Pathetic place. W...|2017-06-29|               0|bKusyUBsJnfV_lhWs...|SZ0LqZ9z5WZAs_QGJ...|\n",
            "|Matcha latte with...|2016-02-02|               0|ol6ATB97MdIuhm6yA...|fFgmv2KgUMAaNcywK...|\n",
            "|Least favorite lo...|2013-02-17|               0|3ytlUFfZ4MzFhl-Jv...|lAW03ccfMEuRZiDqv...|\n",
            "|Even the drive th...|2013-12-19|               0|iUbEzrvaq74ET-SAE...|uIKD7cJF4ZWkicin2...|\n",
            "|Service is a bit ...|2013-02-11|               0|xWb5Sa5qn945aNjex...|gFRrBvz9nLseyD2d2...|\n",
            "|Local hidden gem!...|2014-08-24|               0|JQz0_R70G3bjQ5dRq...|vGVQSLDRlnfzHoJpJ...|\n",
            "+--------------------+----------+----------------+--------------------+--------------------+\n",
            "only showing top 20 rows\n",
            "\n"
          ]
        }
      ],
      "source": [
        "tip_df.sample(0.01, 3).show()"
      ]
    },
    {
      "cell_type": "code",
      "execution_count": 9,
      "metadata": {
        "collapsed": false,
        "jupyter": {
          "outputs_hidden": false,
          "source_hidden": false
        },
        "nteract": {
          "transient": {
            "deleting": false
          }
        }
      },
      "outputs": [
        {
          "data": {
            "application/vnd.livy.statement-meta+json": {
              "execution_finish_time": "2024-04-01T14:01:49.1324339Z",
              "execution_start_time": "2024-04-01T14:01:35.9433428Z",
              "livy_statement_state": "available",
              "parent_msg_id": "ee293c76-816a-4ee9-bccd-11e784e3a271",
              "queued_time": "2024-04-01T14:01:35.7894386Z",
              "session_id": "4",
              "session_start_time": null,
              "spark_jobs": null,
              "spark_pool": "dtcdezcasparkp",
              "state": "finished",
              "statement_id": 11
            },
            "text/plain": [
              "StatementMeta(dtcdezcasparkp, 4, 11, Finished, Available)"
            ]
          },
          "metadata": {},
          "output_type": "display_data"
        },
        {
          "name": "stdout",
          "output_type": "stream",
          "text": [
            "+--------------------+-------------------+\n",
            "|         business_id|               date|\n",
            "+--------------------+-------------------+\n",
            "|--7PUidqRWpRSpXeb...|2014-05-02 15:49:55|\n",
            "|--7jw19RH9JKXgFoh...|2017-05-21 16:07:21|\n",
            "|--ARBQr1WMsTWiwOK...|2016-12-21 23:18:43|\n",
            "|--MbOh2O1pATkXa7x...|2013-11-10 02:40:38|\n",
            "|--O3ip9NpXTKD4oBS...|2010-11-21 21:09:44|\n",
            "|--O3ip9NpXTKD4oBS...|2015-06-25 23:41:57|\n",
            "|--O3ip9NpXTKD4oBS...|2016-05-22 20:03:08|\n",
            "|--S43ruInmIsGrnnk...|2011-07-01 00:34:42|\n",
            "|--S43ruInmIsGrnnk...|2011-11-25 15:41:20|\n",
            "|--S43ruInmIsGrnnk...|2012-02-28 00:36:37|\n",
            "|--S43ruInmIsGrnnk...|2014-02-20 23:21:32|\n",
            "|--S43ruInmIsGrnnk...|2014-09-06 17:39:26|\n",
            "|--S43ruInmIsGrnnk...|2016-08-20 19:45:39|\n",
            "|--ZVrH2X2QXBFdCil...|2012-12-21 01:30:43|\n",
            "|--_9CAxgfXZmoFdNI...|2015-10-16 20:02:01|\n",
            "|--_9CAxgfXZmoFdNI...|2018-04-21 17:05:41|\n",
            "|--epgcb7xHGuJ-4PU...|2013-04-07 14:35:01|\n",
            "|--epgcb7xHGuJ-4PU...|2018-05-06 16:27:26|\n",
            "|--gJkxbsiSIwsQKbi...|2019-01-25 16:59:40|\n",
            "|--onnLZrsCazmcy2P...|2011-02-01 21:44:51|\n",
            "+--------------------+-------------------+\n",
            "only showing top 20 rows\n",
            "\n"
          ]
        }
      ],
      "source": [
        "checkin_df.sample(0.01, 3).show()"
      ]
    },
    {
      "cell_type": "code",
      "execution_count": null,
      "metadata": {
        "jupyter": {
          "outputs_hidden": true,
          "source_hidden": false
        },
        "nteract": {
          "transient": {
            "deleting": false
          }
        }
      },
      "outputs": [],
      "source": [
        "tip_df = tip_df.withColumn(\"year\", year(\"date\"))\n",
        "tip_df = tip_df.withColumn(\"month\", month(\"date\"))\n",
        "tip_df = tip_df.withColumn(\"day\", dayofmonth(\"date\"))\n",
        "tip_df.write.partitionBy(\"year\", \"month\").format(\"parquet\").save(\"/tip/\")"
      ]
    },
    {
      "cell_type": "code",
      "execution_count": null,
      "metadata": {
        "jupyter": {
          "outputs_hidden": false,
          "source_hidden": false
        },
        "nteract": {
          "transient": {
            "deleting": false
          }
        }
      },
      "outputs": [
        {
          "data": {
            "application/vnd.livy.statement-meta+json": {
              "execution_finish_time": "2024-04-01T13:58:06.2986262Z",
              "execution_start_time": null,
              "livy_statement_state": null,
              "parent_msg_id": "e8096734-99f6-4f36-ab63-e770dff7e394",
              "queued_time": "2024-04-01T13:54:42.1754627Z",
              "session_id": null,
              "session_start_time": null,
              "spark_jobs": null,
              "spark_pool": null,
              "state": "cancelled",
              "statement_id": null
            },
            "text/plain": [
              "StatementMeta(, , , Cancelled, )"
            ]
          },
          "metadata": {},
          "output_type": "display_data"
        }
      ],
      "source": [
        "checkin_df = checkin_df.withColumn(\"year\", year(\"date\"))\n",
        "checkin_df = checkin_df.withColumn(\"month\", month(\"date\"))\n",
        "checkin_df = checkin_df.withColumn(\"day\", dayofmonth(\"date\"))\n",
        "\n",
        "checkin_df.write.partitionBy(\"year\", \"month\").format(\"parquet\").save(\"/checkin/\")"
      ]
    },
    {
      "cell_type": "code",
      "execution_count": 14,
      "metadata": {
        "jupyter": {
          "outputs_hidden": false,
          "source_hidden": false
        },
        "microsoft": {},
        "nteract": {
          "transient": {
            "deleting": false
          }
        }
      },
      "outputs": [
        {
          "data": {
            "application/vnd.livy.statement-meta+json": {
              "execution_finish_time": "2024-04-01T14:05:09.0192831Z",
              "execution_start_time": "2024-04-01T14:05:07.9512861Z",
              "livy_statement_state": "available",
              "parent_msg_id": "d04d4bc1-009a-4c58-ab8e-ae96c90fc9d9",
              "queued_time": "2024-04-01T14:05:07.8199503Z",
              "session_id": "4",
              "session_start_time": null,
              "spark_jobs": null,
              "spark_pool": "dtcdezcasparkp",
              "state": "finished",
              "statement_id": 16
            },
            "text/plain": [
              "StatementMeta(dtcdezcasparkp, 4, 16, Finished, Available)"
            ]
          },
          "metadata": {},
          "output_type": "display_data"
        }
      ],
      "source": [
        "review_df = spark.read.synapsesql(\"dtcdezcasqlpool.dbo.ExternalReviewTable\")"
      ]
    },
    {
      "cell_type": "code",
      "execution_count": 15,
      "metadata": {
        "jupyter": {
          "outputs_hidden": false,
          "source_hidden": false
        },
        "nteract": {
          "transient": {
            "deleting": false
          }
        }
      },
      "outputs": [
        {
          "data": {
            "application/vnd.livy.statement-meta+json": {
              "execution_finish_time": "2024-04-01T14:05:15.4884552Z",
              "execution_start_time": "2024-04-01T14:05:15.3443222Z",
              "livy_statement_state": "available",
              "parent_msg_id": "7be5ba15-95c6-4054-9f90-a60386bbc61d",
              "queued_time": "2024-04-01T14:05:14.9574801Z",
              "session_id": "4",
              "session_start_time": null,
              "spark_jobs": null,
              "spark_pool": "dtcdezcasparkp",
              "state": "finished",
              "statement_id": 17
            },
            "text/plain": [
              "StatementMeta(dtcdezcasparkp, 4, 17, Finished, Available)"
            ]
          },
          "metadata": {},
          "output_type": "display_data"
        },
        {
          "name": "stdout",
          "output_type": "stream",
          "text": [
            "root\n",
            " |-- review_id: string (nullable = true)\n",
            " |-- user_id: string (nullable = true)\n",
            " |-- business_id: string (nullable = true)\n",
            " |-- stars: integer (nullable = true)\n",
            " |-- useful: integer (nullable = true)\n",
            " |-- funny: integer (nullable = true)\n",
            " |-- cool: integer (nullable = true)\n",
            " |-- text: string (nullable = true)\n",
            " |-- date: timestamp (nullable = true)\n",
            " |-- id: string (nullable = true)\n",
            "\n"
          ]
        }
      ],
      "source": [
        "review_df.printSchema()"
      ]
    },
    {
      "cell_type": "code",
      "execution_count": 96,
      "metadata": {
        "jupyter": {
          "outputs_hidden": false,
          "source_hidden": false
        },
        "microsoft": {},
        "nteract": {
          "transient": {
            "deleting": false
          }
        }
      },
      "outputs": [
        {
          "data": {
            "application/vnd.livy.statement-meta+json": {
              "execution_finish_time": "2024-04-01T15:35:21.1665873Z",
              "execution_start_time": "2024-04-01T15:35:21.0237331Z",
              "livy_statement_state": "available",
              "parent_msg_id": "13447983-e4ea-4cf1-a326-e31d251e6d6c",
              "queued_time": "2024-04-01T15:35:20.8791303Z",
              "session_id": "4",
              "session_start_time": null,
              "spark_jobs": null,
              "spark_pool": "dtcdezcasparkp",
              "state": "finished",
              "statement_id": 98
            },
            "text/plain": [
              "StatementMeta(dtcdezcasparkp, 4, 98, Finished, Available)"
            ]
          },
          "metadata": {},
          "output_type": "display_data"
        }
      ],
      "source": [
        "business_df = spark.read.option(\"multiLine\", \"false\").load(\"abfss://dtcdezca-adls@dtcdezcasa.dfs.core.windows.net/yelp_academic_dataset_business.json\", format=\"json\",  schema=businessSchema)"
      ]
    },
    {
      "cell_type": "code",
      "execution_count": 53,
      "metadata": {
        "jupyter": {
          "outputs_hidden": false,
          "source_hidden": false
        },
        "nteract": {
          "transient": {
            "deleting": false
          }
        }
      },
      "outputs": [
        {
          "data": {
            "application/vnd.livy.statement-meta+json": {
              "execution_finish_time": "2024-04-01T14:32:28.4979523Z",
              "execution_start_time": "2024-04-01T14:32:27.7630584Z",
              "livy_statement_state": "available",
              "parent_msg_id": "8adfe4fd-cdc5-4ad0-b511-1191066e7df8",
              "queued_time": "2024-04-01T14:32:27.1118638Z",
              "session_id": "4",
              "session_start_time": null,
              "spark_jobs": null,
              "spark_pool": "dtcdezcasparkp",
              "state": "finished",
              "statement_id": 55
            },
            "text/plain": [
              "StatementMeta(dtcdezcasparkp, 4, 55, Finished, Available)"
            ]
          },
          "metadata": {},
          "output_type": "display_data"
        }
      ],
      "source": [
        "user_df = spark.read.option(\"multiLine\", \"false\").load(\"abfss://dtcdezca-adls@dtcdezcasa.dfs.core.windows.net/yelp_academic_dataset_user.json\", format=\"json\", schema=userSchema)"
      ]
    },
    {
      "cell_type": "code",
      "execution_count": 54,
      "metadata": {
        "jupyter": {
          "outputs_hidden": false,
          "source_hidden": false
        },
        "nteract": {
          "transient": {
            "deleting": false
          }
        }
      },
      "outputs": [
        {
          "data": {
            "application/vnd.livy.statement-meta+json": {
              "execution_finish_time": "2024-04-01T14:32:28.8446987Z",
              "execution_start_time": "2024-04-01T14:32:28.6897911Z",
              "livy_statement_state": "available",
              "parent_msg_id": "36770430-5e79-4255-9aa9-859fff8e0f5b",
              "queued_time": "2024-04-01T14:32:28.5708792Z",
              "session_id": "4",
              "session_start_time": null,
              "spark_jobs": null,
              "spark_pool": "dtcdezcasparkp",
              "state": "finished",
              "statement_id": 56
            },
            "text/plain": [
              "StatementMeta(dtcdezcasparkp, 4, 56, Finished, Available)"
            ]
          },
          "metadata": {},
          "output_type": "display_data"
        },
        {
          "name": "stdout",
          "output_type": "stream",
          "text": [
            "root\n",
            " |-- user_id: string (nullable = true)\n",
            " |-- name: string (nullable = true)\n",
            " |-- review_count: integer (nullable = true)\n",
            " |-- yelping_since: string (nullable = true)\n",
            " |-- friends: string (nullable = true)\n",
            " |-- useful: integer (nullable = true)\n",
            " |-- funny: integer (nullable = true)\n",
            " |-- cool: integer (nullable = true)\n",
            " |-- fans: integer (nullable = true)\n",
            " |-- elite: string (nullable = true)\n",
            " |-- average_stars: float (nullable = true)\n",
            " |-- compliment_hot: integer (nullable = true)\n",
            " |-- compliment_more: integer (nullable = true)\n",
            " |-- compliment_profile: integer (nullable = true)\n",
            " |-- compliment_cute: integer (nullable = true)\n",
            " |-- compliment_list: integer (nullable = true)\n",
            " |-- compliment_note: integer (nullable = true)\n",
            " |-- compliment_plain: integer (nullable = true)\n",
            " |-- compliment_cool: integer (nullable = true)\n",
            " |-- compliment_funny: integer (nullable = true)\n",
            " |-- compliment_writer: integer (nullable = true)\n",
            " |-- compliment_photos: integer (nullable = true)\n",
            "\n"
          ]
        }
      ],
      "source": [
        "user_df.printSchema()"
      ]
    },
    {
      "cell_type": "code",
      "execution_count": 55,
      "metadata": {
        "jupyter": {
          "outputs_hidden": false,
          "source_hidden": false
        },
        "nteract": {
          "transient": {
            "deleting": false
          }
        }
      },
      "outputs": [
        {
          "data": {
            "application/vnd.livy.statement-meta+json": {
              "execution_finish_time": "2024-04-01T14:32:32.6610217Z",
              "execution_start_time": "2024-04-01T14:32:31.5654774Z",
              "livy_statement_state": "available",
              "parent_msg_id": "7b99a233-c9d3-49a4-8f10-9f4087ed438d",
              "queued_time": "2024-04-01T14:32:31.4269763Z",
              "session_id": "4",
              "session_start_time": null,
              "spark_jobs": null,
              "spark_pool": "dtcdezcasparkp",
              "state": "finished",
              "statement_id": 57
            },
            "text/plain": [
              "StatementMeta(dtcdezcasparkp, 4, 57, Finished, Available)"
            ]
          },
          "metadata": {},
          "output_type": "display_data"
        },
        {
          "name": "stdout",
          "output_type": "stream",
          "text": [
            "+--------------------+--------------------+------------+-------------------+--------------------+------+-----+-----+----+--------------------+-------------+--------------+---------------+------------------+---------------+---------------+---------------+----------------+---------------+----------------+-----------------+-----------------+\n",
            "|             user_id|                name|review_count|      yelping_since|             friends|useful|funny| cool|fans|               elite|average_stars|compliment_hot|compliment_more|compliment_profile|compliment_cute|compliment_list|compliment_note|compliment_plain|compliment_cool|compliment_funny|compliment_writer|compliment_photos|\n",
            "+--------------------+--------------------+------------+-------------------+--------------------+------+-----+-----+----+--------------------+-------------+--------------+---------------+------------------+---------------+---------------+---------------+----------------+---------------+----------------+-----------------+-----------------+\n",
            "|4ZaqBJqt7laPPs8xf...|                Nina|         801|2008-08-16 22:43:21|v56_o8iCNYGB2JFVI...|  1944|  616|  737|  75|2010,2011,2012,20...|         3.41|            24|              5|                 1|             10|              0|             54|              71|             46|              46|               39|               10|\n",
            "|RgDVC3ZUBqpEe6Y1k...|              Monica|        1282|2009-02-23 14:08:31|sHozd2pcOKwHtPr8V...| 12640|10005|11149| 804|2009,2010,2011,20...|         4.17|          1262|            102|               108|            138|             65|            898|            2584|           1731|            1731|              551|              177|\n",
            "|nDPpFNHBId4o5kjKL...|              Lizzie|          39|2009-05-17 22:10:06|CFLDJBCJwJEc8IwX2...|    71|   17|   11|   2|                    |         4.19|             0|              0|                 0|              0|              0|              0|               0|              1|               1|                0|                0|\n",
            "|drui1iMt-TPzJiSkQ...|             Felicia|         212|2007-08-02 21:41:41|AiIq6HczkpjIN7FWI...|   625|  200|  262|  35|2010,2011,2012,20...|         4.15|            47|             18|                 2|              7|              0|             14|              20|             38|              38|               38|                1|\n",
            "|xSI4zpl9EaETOHyzs...|              Ashley|         369|2010-04-05 01:25:11|Bsm_McpY7yn06BDar...|   834|  304|  367|  30|2010,2011,2012,20...|         3.99|            25|              8|                 4|              1|              2|             32|              70|             75|              75|               31|                5|\n",
            "|7mzo8uYToyTkdl4kp...|              Jeanny|         109|2011-08-12 00:20:54|lVKtQeXFSDYyBFZmz...|    68|   11|   28|   2|                2012|         3.98|             0|              1|                 1|              0|              0|              1|               3|              2|               2|                1|                1|\n",
            "|dTiuUeT2c7-JcA_ta...|                Rick|          87|2008-01-10 07:31:34|466LpJsGPVEVd4v6q...|    64|   17|   42|   3|                    |         3.12|             2|              3|                 0|              1|              0|              9|              10|             13|              13|                4|                0|\n",
            "|tGgTIueZy1JNTzQD9...|               Jenny|        1190|2007-12-27 20:52:20|-uBmDm-WLzhue5KQU...|  4526| 3168| 3631| 172|2009,2010,2011,20...|         3.58|           925|             39|                33|             75|              5|            161|             590|            689|             689|              276|              108|\n",
            "|sVr6_v-lwixu3VREO...|              Aditya|         404|2007-06-08 12:12:35|8Ldrd41aJRcPrwIJz...|  1333|  330|  638|  53| 2011,2012,2013,2014|         3.76|            95|              7|                 4|              4|             11|            132|             406|            206|             206|              109|               17|\n",
            "|cEDMie5DjE_00sJ23...|                 Eli|          43|2008-11-26 15:48:02|Hv0D0BDrsarzvJSQX...|   245|  119|  155|  16|                    |         4.04|            27|              6|                 6|              3|              3|             16|              69|             47|              47|                8|                1|\n",
            "|fcG6PdOWJv5jr3_2-...|              Shauna|         105|2007-12-13 18:38:21|PzUp9_GjlSJAEZ_I7...|    71|   23|   36|   6|                    |         4.02|             4|              0|                 0|              3|              0|              5|               4|              9|               9|                1|                2|\n",
            "|_ytx-JT-RZcTA4aov...|              Ashley|          91|2007-04-12 00:54:33|cEDMie5DjE_00sJ23...|   229|   37|  111|  10|                2009|         3.96|             7|              2|                 0|              2|              0|              6|               4|             14|              14|                3|                1|\n",
            "|xP9-tpvS1wPNJ23cI...|               Julia|         741|2008-03-14 21:04:20|AIhfuFmX62k7a22gX...|   855|  291|  373|  38|                2017|         3.82|            12|              7|                 0|              1|             27|             13|              33|             23|              23|                4|                7|\n",
            "|Er_1k4cl0VwKz9tfI...|                Lynn|         508|2010-05-26 17:09:41|Adb6T6hMHD08TMkL9...|  2013|  525|  977| 100|2010,2011,2012,20...|         4.37|            60|             21|                 5|              3|              3|             76|             104|             64|              64|               66|               39|\n",
            "|FNP8h7mywPGKkErQS...|            Samantha|         296|2010-03-12 03:43:38|PL40ir4ZEFQuAR466...|   821|  282|  354|  47|2010,2011,2012,20...|         3.71|            20|              3|                 3|              1|              1|             38|              39|             36|              36|               29|                4|\n",
            "|QDANyAnTmi3O7b7Xu...|             Tiziano|          20|2010-01-06 17:06:09|jRYhiDwCe4kiLFqdP...|   148|   39|   67|   7|                    |          4.0|             5|              3|                 1|              0|              0|              2|               5|              7|               7|                6|                3|\n",
            "|FkAzO6mD7xIydood2...|              Marisa|         452|2007-07-30 20:31:04|eStC6gFBRiUjkn9_9...|   653|  174|  232|  29|2009,2010,2011,20...|         3.79|             9|              4|                 3|              1|              1|              7|               9|             14|              14|                8|                0|\n",
            "|p0LlDmp9ZLYi_yuOa...|             Lindsay|         109|2006-03-11 23:23:31|om5ZiponkpRqUNa3p...|   285|  108|  110|  11|      2006,2007,2008|         3.97|            13|             17|                 2|              0|              0|             11|               7|             11|              11|                7|                1|\n",
            "|XAlgPQYihaK-r3ZsK...|Krista FussyBritches|         390|2008-08-20 05:48:59|yKSQqw2xEIJkZuqZp...|  1519| 1454| 1128|  49|           2009,2010|         3.43|           106|             29|                11|              7|              5|             65|             161|             88|              88|               51|                7|\n",
            "|KFZISl5mOUJ6bu3qC...|                 Dru|        1069|2008-02-06 22:51:59|eZKyqqZUG06YxG2N-...|  5555| 4366| 4529| 109| 2009,2010,2011,2012|         3.53|           461|             35|                56|             42|             33|            349|             678|            998|             998|              259|              284|\n",
            "+--------------------+--------------------+------------+-------------------+--------------------+------+-----+-----+----+--------------------+-------------+--------------+---------------+------------------+---------------+---------------+---------------+----------------+---------------+----------------+-----------------+-----------------+\n",
            "only showing top 20 rows\n",
            "\n"
          ]
        }
      ],
      "source": [
        "user_df.sample(0.01,3).show()"
      ]
    },
    {
      "cell_type": "markdown",
      "metadata": {
        "nteract": {
          "transient": {
            "deleting": false
          }
        }
      },
      "source": [
        "# Feature Analysis"
      ]
    },
    {
      "cell_type": "code",
      "execution_count": 64,
      "metadata": {
        "jupyter": {
          "outputs_hidden": false,
          "source_hidden": false
        },
        "nteract": {
          "transient": {
            "deleting": false
          }
        }
      },
      "outputs": [
        {
          "data": {
            "application/vnd.livy.statement-meta+json": {
              "execution_finish_time": "2024-04-01T14:37:30.9387772Z",
              "execution_start_time": "2024-04-01T14:37:29.583554Z",
              "livy_statement_state": "available",
              "parent_msg_id": "485bb1c4-9cb1-44a2-9e58-854ae5da3ec8",
              "queued_time": "2024-04-01T14:37:29.4569542Z",
              "session_id": "4",
              "session_start_time": null,
              "spark_jobs": null,
              "spark_pool": "dtcdezcasparkp",
              "state": "finished",
              "statement_id": 66
            },
            "text/plain": [
              "StatementMeta(dtcdezcasparkp, 4, 66, Finished, Available)"
            ]
          },
          "metadata": {},
          "output_type": "display_data"
        },
        {
          "data": {
            "text/plain": [
              "DataFrame[year: string, new_users: bigint, reviews: bigint, elite_users: bigint, tips: bigint, checkins: bigint]"
            ]
          },
          "execution_count": 127,
          "metadata": {},
          "output_type": "execute_result"
        }
      ],
      "source": [
        "new_users = user_df.withColumn(\"year\", year(\"yelping_since\")).groupBy(\"year\").count().withColumnRenamed(\"count\", \"new_users\")\n",
        "\n",
        "reviews = review_df.withColumn(\"year\", year(\"date\")).groupBy(\"year\").count().withColumnRenamed(\"count\", \"reviews\")\n",
        "\n",
        "elite_expanded = user_df.withColumn(\"elite_array\", split(\"elite\", \",\")) \\\n",
        "                        .select(\"user_id\", explode(\"elite_array\").alias(\"elite_year\"))\n",
        "elite_users_by_year = elite_expanded.groupBy(\"elite_year\").count().withColumnRenamed(\"count\", \"elite_users\").withColumnRenamed(\"elite_year\", \"year\")\n",
        "\n",
        "tips = tip_df.withColumn(\"year\", year(\"date\")).groupBy(\"year\").count().withColumnRenamed(\"count\", \"tips\")\n",
        "checkins = checkin_df.withColumn(\"year\", year(\"date\")).groupBy(\"year\").count().withColumnRenamed(\"count\", \"checkins\")\n",
        "\n",
        "aggregate_df = new_users.join(reviews, \"year\", \"outer\") \\\n",
        "                        .join(elite_users_by_year, \"year\", \"outer\") \\\n",
        "                        .join(tips, \"year\", \"outer\") \\\n",
        "                        .join(checkins, \"year\", \"outer\")\n",
        "\n",
        "aggregate_df"
      ]
    },
    {
      "cell_type": "code",
      "execution_count": 65,
      "metadata": {
        "jupyter": {
          "outputs_hidden": false,
          "source_hidden": false
        },
        "nteract": {
          "transient": {
            "deleting": false
          }
        }
      },
      "outputs": [
        {
          "data": {
            "application/vnd.livy.statement-meta+json": {
              "execution_finish_time": "2024-04-01T14:38:24.3625425Z",
              "execution_start_time": "2024-04-01T14:37:36.0968493Z",
              "livy_statement_state": "available",
              "parent_msg_id": "fb6a9434-1594-489a-bfde-5c1c3039c45f",
              "queued_time": "2024-04-01T14:37:35.9582785Z",
              "session_id": "4",
              "session_start_time": null,
              "spark_jobs": null,
              "spark_pool": "dtcdezcasparkp",
              "state": "finished",
              "statement_id": 67
            },
            "text/plain": [
              "StatementMeta(dtcdezcasparkp, 4, 67, Finished, Available)"
            ]
          },
          "metadata": {},
          "output_type": "display_data"
        },
        {
          "name": "stdout",
          "output_type": "stream",
          "text": [
            "+----+---------+-------+-----------+------+--------+\n",
            "|year|new_users|reviews|elite_users|  tips|checkins|\n",
            "+----+---------+-------+-----------+------+--------+\n",
            "|    |     null|   null|    1896699|  null|    null|\n",
            "|  20|     null|   null|      79858|  null|    null|\n",
            "|2004|       90|   null|       null|  null|    null|\n",
            "|2005|      937|    552|       null|  null|    null|\n",
            "|2006|     5423|   2289|        775|  null|    null|\n",
            "|2007|    15340|   9545|       2023|  null|    null|\n",
            "|2008|    31097|  30262|       3185|  null|    null|\n",
            "|2009|    64911|  46888|       5479|   665|       2|\n",
            "|2010|   109054|  87316|       8772| 26712|  209153|\n",
            "|2011|   176435| 144931|      10997| 83395|  901457|\n",
            "|2012|   195955| 179992|      15222|110459| 1289492|\n",
            "|2013|   209762| 240319|      16193|107563| 1552799|\n",
            "|2014|   233465| 323855|      18571|109160| 1625884|\n",
            "|2015|   247850| 426403|      24175| 89686| 1709857|\n",
            "|2016|   217620| 473753|      29636| 94333| 1554774|\n",
            "|2017|   151024| 512153|      36015| 93909| 1348466|\n",
            "|2018|   133568| 579055|      41009| 67033| 1157252|\n",
            "|2019|   104655| 603244|      44044| 57646| 1035160|\n",
            "|2020|    47444| 349807|       null| 32436|  474172|\n",
            "|2021|    40485|  52841|      44542| 34993|  477467|\n",
            "+----+---------+-------+-----------+------+--------+\n",
            "only showing top 20 rows\n",
            "\n"
          ]
        }
      ],
      "source": [
        "aggregate_df.show()"
      ]
    },
    {
      "cell_type": "markdown",
      "metadata": {},
      "source": [
        "Problem occured with year '20' appeared. Needed investigation."
      ]
    },
    {
      "cell_type": "code",
      "execution_count": null,
      "metadata": {
        "jupyter": {
          "outputs_hidden": false,
          "source_hidden": false
        },
        "nteract": {
          "transient": {
            "deleting": false
          }
        }
      },
      "outputs": [
        {
          "data": {
            "application/vnd.livy.statement-meta+json": {
              "execution_finish_time": "2024-04-01T13:58:06.3011473Z",
              "execution_start_time": null,
              "livy_statement_state": null,
              "parent_msg_id": "8e23c717-1638-46e4-bfa1-da307d7d6e9a",
              "queued_time": "2024-04-01T13:54:42.1835238Z",
              "session_id": null,
              "session_start_time": null,
              "spark_jobs": null,
              "spark_pool": null,
              "state": "cancelled",
              "statement_id": null
            },
            "text/plain": [
              "StatementMeta(, , , Cancelled, )"
            ]
          },
          "metadata": {},
          "output_type": "display_data"
        }
      ],
      "source": [
        "aggregate_df.write.mode(\"overwrite\").saveAsTable(\"yelp_feature_table\")"
      ]
    },
    {
      "cell_type": "code",
      "execution_count": 67,
      "metadata": {
        "jupyter": {
          "outputs_hidden": false,
          "source_hidden": false
        },
        "nteract": {
          "transient": {
            "deleting": false
          }
        }
      },
      "outputs": [
        {
          "data": {
            "application/vnd.livy.statement-meta+json": {
              "execution_finish_time": "2024-04-01T14:41:57.0198376Z",
              "execution_start_time": "2024-04-01T14:41:56.4552184Z",
              "livy_statement_state": "available",
              "parent_msg_id": "a57d2dc4-16b1-46c0-8cbc-0f980e0a2ede",
              "queued_time": "2024-04-01T14:41:56.3278736Z",
              "session_id": "4",
              "session_start_time": null,
              "spark_jobs": null,
              "spark_pool": "dtcdezcasparkp",
              "state": "finished",
              "statement_id": 69
            },
            "text/plain": [
              "StatementMeta(dtcdezcasparkp, 4, 69, Finished, Available)"
            ]
          },
          "metadata": {},
          "output_type": "display_data"
        },
        {
          "name": "stdout",
          "output_type": "stream",
          "text": [
            "+----------+\n",
            "|elite_year|\n",
            "+----------+\n",
            "|        20|\n",
            "|        20|\n",
            "|        20|\n",
            "|        20|\n",
            "|        20|\n",
            "|        20|\n",
            "|        20|\n",
            "|        20|\n",
            "|        20|\n",
            "|        20|\n",
            "|        20|\n",
            "|        20|\n",
            "|        20|\n",
            "|        20|\n",
            "|        20|\n",
            "|        20|\n",
            "|        20|\n",
            "|        20|\n",
            "|        20|\n",
            "|        20|\n",
            "+----------+\n",
            "only showing top 20 rows\n",
            "\n"
          ]
        }
      ],
      "source": [
        "elite_expanded.select(\"elite_year\").where(col(\"elite_year\") == 20).show()"
      ]
    },
    {
      "cell_type": "code",
      "execution_count": 74,
      "metadata": {
        "jupyter": {
          "outputs_hidden": false,
          "source_hidden": false
        },
        "nteract": {
          "transient": {
            "deleting": false
          }
        }
      },
      "outputs": [
        {
          "data": {
            "application/vnd.livy.statement-meta+json": {
              "execution_finish_time": "2024-04-01T14:44:59.3090206Z",
              "execution_start_time": "2024-04-01T14:44:58.7919032Z",
              "livy_statement_state": "available",
              "parent_msg_id": "0beec2dc-d753-4512-b76b-e20de69a34f9",
              "queued_time": "2024-04-01T14:44:58.4797856Z",
              "session_id": "4",
              "session_start_time": null,
              "spark_jobs": null,
              "spark_pool": "dtcdezcasparkp",
              "state": "finished",
              "statement_id": 76
            },
            "text/plain": [
              "StatementMeta(dtcdezcasparkp, 4, 76, Finished, Available)"
            ]
          },
          "metadata": {},
          "output_type": "display_data"
        },
        {
          "name": "stdout",
          "output_type": "stream",
          "text": [
            "+--------------------------------------------------------------------------------+\n",
            "|elite                                                                           |\n",
            "+--------------------------------------------------------------------------------+\n",
            "|2009,2010,2011,2012,2013,2014,2015,2016,2017,2018,2019,20,20,2021               |\n",
            "|2010,2011,2012,2013,2014,2015,2016,2017,2018,2019,20,20,2021                    |\n",
            "|2010,2011,2012,2013,2014,2015,2016,2017,2018,2019,20,20,2021                    |\n",
            "|2006,2007,2008,2009,2010,2011,2012,2013,2014,2015,2016,2017,2018,2019,20,20,2021|\n",
            "|2010,2011,2012,2013,2014,2015,2016,2017,2018,2019,20,20,2021                    |\n",
            "|2009,2010,2011,2012,2013,2014,2015,2016,2017,2018,2019,20,20,2021               |\n",
            "|2011,2012,2013,2014,2015,2016,2017,2018,2019,20,20,2021                         |\n",
            "|2010,2011,2012,2013,2014,2015,2016,2017,2018,2019,20,20,2021                    |\n",
            "|2006,2007,2008,2009,2010,2011,2012,2013,2014,2015,2016,2017,2018,2019,20,20,2021|\n",
            "|2016,2017,2018,2019,20,20,2021                                                  |\n",
            "|2006,2007,2008,2009,2010,2011,2012,2013,2014,2015,2016,2017,2018,2019,20,20,2021|\n",
            "|2006,2007,2008,2009,2010,2011,2012,2013,2014,2015,2016,2017,2018,2019,20,20,2021|\n",
            "|2008,2009,2010,2011,2012,2013,2014,2015,2016,2017,2018,2019,20,20,2021          |\n",
            "|2012,2013,2014,2015,2016,2017,2018,2019,20,20,2021                              |\n",
            "|2009,2010,2011,2012,2013,2014,2015,2016,2017,2018,2019,20,20,2021               |\n",
            "|2017,2018,2019,20,20,2021                                                       |\n",
            "|2008,2009,2010,2011,2012,2013,2014,2015,2016,2017,2018,2019,20,20,2021          |\n",
            "|2011,2012,2013,2014,2015,2016,2017,2018,2019,20,20,2021                         |\n",
            "|2011,2012,2013,2014,2015,2016,2017,2018,2019,20,20,2021                         |\n",
            "|2006,2007,2008,2009,2010,2011,2012,2013,2014,2015,2016,2017,2018,2019,20,20,2021|\n",
            "+--------------------------------------------------------------------------------+\n",
            "only showing top 20 rows\n",
            "\n"
          ]
        }
      ],
      "source": [
        "rows_with_20 = user_df.filter(col(\"elite\").contains(\",20,\"))\n",
        "rows_with_20.select(\"elite\").show(truncate=False)"
      ]
    },
    {
      "cell_type": "code",
      "execution_count": 75,
      "metadata": {
        "jupyter": {
          "outputs_hidden": false,
          "source_hidden": false
        },
        "nteract": {
          "transient": {
            "deleting": false
          }
        }
      },
      "outputs": [
        {
          "data": {
            "application/vnd.livy.statement-meta+json": {
              "execution_finish_time": "2024-04-01T14:47:22.3335447Z",
              "execution_start_time": "2024-04-01T14:47:21.8013596Z",
              "livy_statement_state": "available",
              "parent_msg_id": "c9edee15-13b9-4fbc-977c-c6067872cc59",
              "queued_time": "2024-04-01T14:47:21.6451522Z",
              "session_id": "4",
              "session_start_time": null,
              "spark_jobs": null,
              "spark_pool": "dtcdezcasparkp",
              "state": "finished",
              "statement_id": 77
            },
            "text/plain": [
              "StatementMeta(dtcdezcasparkp, 4, 77, Finished, Available)"
            ]
          },
          "metadata": {},
          "output_type": "display_data"
        },
        {
          "name": "stdout",
          "output_type": "stream",
          "text": [
            "+----------------------------------------------------------------+\n",
            "|elite                                                           |\n",
            "+----------------------------------------------------------------+\n",
            "|2007                                                            |\n",
            "|2009,2010,2011,2012,2013,2014,2015,2016,2017,2018,2019,2020,2021|\n",
            "|2009,2010,2011,2012,2013                                        |\n",
            "|2009,2010,2011                                                  |\n",
            "|                                                                |\n",
            "|2006,2007,2008,2009,2010,2011,2012,2013,2014                    |\n",
            "|                                                                |\n",
            "|                                                                |\n",
            "|                                                                |\n",
            "|                                                                |\n",
            "|                                                                |\n",
            "|2009,2010,2011,2012                                             |\n",
            "|                                                                |\n",
            "|                                                                |\n",
            "|                                                                |\n",
            "|2007,2008,2009,2010,2011                                        |\n",
            "|                                                                |\n",
            "|                                                                |\n",
            "|2010,2011,2012,2013,2014,2015,2016,2017,2018,2019,2020,2021     |\n",
            "|                                                                |\n",
            "|                                                                |\n",
            "|                                                                |\n",
            "|2015,2016                                                       |\n",
            "|2008,2009,2010,2011,2012,2013,2014,2015,2016,2017,2018          |\n",
            "|2006,2007,2008,2009,2010,2011,2012                              |\n",
            "|2008,2009,2010,2011                                             |\n",
            "|                                                                |\n",
            "|                                                                |\n",
            "|2008,2009,2010,2011,2012,2013,2014                              |\n",
            "|2010,2011,2012,2013,2014,2015,2016,2017,2018,2019,2020,2021     |\n",
            "+----------------------------------------------------------------+\n",
            "only showing top 30 rows\n",
            "\n"
          ]
        }
      ],
      "source": [
        "user_df = user_df.withColumn(\"elite\", regexp_replace(\"elite\", \"20,20\", \"2020\"))\n",
        "user_df.select(\"elite\").show(30, truncate=False)"
      ]
    },
    {
      "cell_type": "code",
      "execution_count": 92,
      "metadata": {
        "jupyter": {
          "outputs_hidden": false,
          "source_hidden": false
        },
        "nteract": {
          "transient": {
            "deleting": false
          }
        }
      },
      "outputs": [
        {
          "data": {
            "application/vnd.livy.statement-meta+json": {
              "execution_finish_time": "2024-04-01T15:25:51.9959814Z",
              "execution_start_time": "2024-04-01T15:25:01.4297777Z",
              "livy_statement_state": "available",
              "parent_msg_id": "77a59d6e-c8e8-4fb6-a2e5-61e967fdb221",
              "queued_time": "2024-04-01T15:25:01.2910958Z",
              "session_id": "4",
              "session_start_time": null,
              "spark_jobs": null,
              "spark_pool": "dtcdezcasparkp",
              "state": "finished",
              "statement_id": 94
            },
            "text/plain": [
              "StatementMeta(dtcdezcasparkp, 4, 94, Finished, Available)"
            ]
          },
          "metadata": {},
          "output_type": "display_data"
        },
        {
          "name": "stdout",
          "output_type": "stream",
          "text": [
            "+----+---------+-------+-----------+------+--------+\n",
            "|year|new_users|reviews|elite_users|  tips|checkins|\n",
            "+----+---------+-------+-----------+------+--------+\n",
            "|2004|       90|   null|       null|  null|    null|\n",
            "|2005|      937|    552|       null|  null|    null|\n",
            "|2006|     5423|   2289|        775|  null|    null|\n",
            "|2007|    15340|   9545|       2023|  null|    null|\n",
            "|2008|    31097|  30262|       3185|  null|    null|\n",
            "|2009|    64911|  46888|       5479|   665|       2|\n",
            "|2010|   109054|  87316|       8772| 26712|  209153|\n",
            "|2011|   176435| 144931|      10997| 83395|  901457|\n",
            "|2012|   195955| 179992|      15222|110459| 1289492|\n",
            "|2013|   209762| 240319|      16193|107563| 1552799|\n",
            "|2014|   233465| 323855|      18571|109160| 1625884|\n",
            "|2015|   247850| 426403|      24175| 89686| 1709857|\n",
            "|2016|   217620| 473753|      29636| 94333| 1554774|\n",
            "|2017|   151024| 512153|      36015| 93909| 1348466|\n",
            "|2018|   133568| 579055|      41009| 67033| 1157252|\n",
            "|2019|   104655| 603244|      44044| 57646| 1035160|\n",
            "|2020|    47444| 349807|      39929| 32436|  474172|\n",
            "|2021|    40485|  52841|      44542| 34993|  477467|\n",
            "|2022|     2782|   null|       null|   925|   20940|\n",
            "+----+---------+-------+-----------+------+--------+\n",
            "\n"
          ]
        }
      ],
      "source": [
        "from pyspark.sql.functions import regexp_extract\n",
        "\n",
        "elite_expanded = filtered_elite.select(\"user_id\", explode(col(\"elite_array\")).alias(\"elite_year\"))\n",
        "elite_expanded = elite_expanded.withColumn(\"elite_year\", regexp_extract(col(\"elite_year\"), \"^\\\\d{4}$\", 0))\n",
        "\n",
        "elite_expanded = elite_expanded.filter(elite_expanded.elite_year != \"\")\n",
        "\n",
        "elite_users_by_year = elite_expanded.groupBy(\"elite_year\").count().withColumnRenamed(\"count\", \"elite_users\").withColumnRenamed(\"elite_year\", \"year\")\n",
        "\n",
        "aggregate_df = new_users.join(reviews, \"year\", \"outer\") \\\n",
        "                        .join(elite_users_by_year, \"year\", \"outer\") \\\n",
        "                        .join(tips, \"year\", \"outer\") \\\n",
        "                        .join(checkins, \"year\", \"outer\")\n",
        "\n",
        "aggregate_df.filter(col(\"year\").isNotNull()).show()\n"
      ]
    },
    {
      "cell_type": "markdown",
      "metadata": {},
      "source": [
        "# Output to Datawarehouse"
      ]
    },
    {
      "cell_type": "code",
      "execution_count": 100,
      "metadata": {
        "jupyter": {
          "outputs_hidden": false,
          "source_hidden": false
        },
        "nteract": {
          "transient": {
            "deleting": false
          }
        }
      },
      "outputs": [
        {
          "data": {
            "application/vnd.livy.statement-meta+json": {
              "execution_finish_time": "2024-04-01T15:40:14.3682663Z",
              "execution_start_time": "2024-04-01T15:40:14.2008239Z",
              "livy_statement_state": "available",
              "parent_msg_id": "a5d5dbcd-b46e-4204-8ab9-cb854df96963",
              "queued_time": "2024-04-01T15:40:14.0724425Z",
              "session_id": "4",
              "session_start_time": null,
              "spark_jobs": null,
              "spark_pool": "dtcdezcasparkp",
              "state": "finished",
              "statement_id": 102
            },
            "text/plain": [
              "StatementMeta(dtcdezcasparkp, 4, 102, Finished, Available)"
            ]
          },
          "metadata": {},
          "output_type": "display_data"
        }
      ],
      "source": [
        "container_path = 'abfss://dtcdezca-adls@dtcdezcasa.dfs.core.windows.net/'"
      ]
    },
    {
      "cell_type": "code",
      "execution_count": 93,
      "metadata": {
        "jupyter": {
          "outputs_hidden": false,
          "source_hidden": false
        },
        "nteract": {
          "transient": {
            "deleting": false
          }
        }
      },
      "outputs": [
        {
          "data": {
            "application/vnd.livy.statement-meta+json": {
              "execution_finish_time": "2024-04-01T15:28:39.9691753Z",
              "execution_start_time": "2024-04-01T15:27:48.0608117Z",
              "livy_statement_state": "available",
              "parent_msg_id": "77fb6a62-58ed-4c40-b56d-41018b18eac0",
              "queued_time": "2024-04-01T15:27:47.9170757Z",
              "session_id": "4",
              "session_start_time": null,
              "spark_jobs": null,
              "spark_pool": "dtcdezcasparkp",
              "state": "finished",
              "statement_id": 95
            },
            "text/plain": [
              "StatementMeta(dtcdezcasparkp, 4, 95, Finished, Available)"
            ]
          },
          "metadata": {},
          "output_type": "display_data"
        }
      ],
      "source": [
        "output_file= 'yelp_feature.csv'\n",
        "aggregate_df.write \\\n",
        "    .format(\"csv\") \\\n",
        "    .option(\"header\", \"true\") \\\n",
        "    .mode(\"overwrite\") \\\n",
        "    .save(container_path + output_file)"
      ]
    },
    {
      "cell_type": "code",
      "execution_count": 98,
      "metadata": {
        "jupyter": {
          "outputs_hidden": false,
          "source_hidden": false
        },
        "nteract": {
          "transient": {
            "deleting": false
          }
        }
      },
      "outputs": [
        {
          "data": {
            "application/vnd.livy.statement-meta+json": {
              "execution_finish_time": "2024-04-01T15:39:44.9322814Z",
              "execution_start_time": "2024-04-01T15:39:43.1124407Z",
              "livy_statement_state": "available",
              "parent_msg_id": "e129f87b-6059-424e-8e87-17c00ca392e8",
              "queued_time": "2024-04-01T15:39:42.9783971Z",
              "session_id": "4",
              "session_start_time": null,
              "spark_jobs": null,
              "spark_pool": "dtcdezcasparkp",
              "state": "finished",
              "statement_id": 100
            },
            "text/plain": [
              "StatementMeta(dtcdezcasparkp, 4, 100, Finished, Available)"
            ]
          },
          "metadata": {},
          "output_type": "display_data"
        },
        {
          "name": "stdout",
          "output_type": "stream",
          "text": [
            "+-------------------------+-----+\n",
            "|category                 |count|\n",
            "+-------------------------+-----+\n",
            "|Restaurants              |52268|\n",
            "|Food                     |27781|\n",
            "|Shopping                 |24395|\n",
            "|Home Services            |14356|\n",
            "|Beauty & Spas            |14292|\n",
            "|Nightlife                |12281|\n",
            "|Health & Medical         |11890|\n",
            "|Local Services           |11198|\n",
            "|Bars                     |11065|\n",
            "|Automotive               |10773|\n",
            "|Event Planning & Services|9895 |\n",
            "|Sandwiches               |8366 |\n",
            "|American (Traditional)   |8139 |\n",
            "|Active Life              |7687 |\n",
            "|Pizza                    |7093 |\n",
            "|Coffee & Tea             |6703 |\n",
            "|Fast Food                |6472 |\n",
            "|Breakfast & Brunch       |6239 |\n",
            "|American (New)           |6097 |\n",
            "|Hotels & Travel          |5857 |\n",
            "+-------------------------+-----+\n",
            "only showing top 20 rows\n",
            "\n"
          ]
        }
      ],
      "source": [
        "categories_df = business_df.withColumn(\"category\", explode(split(col(\"categories\"), \", \")))\n",
        "category_distribution = categories_df.groupBy(\"category\").count().orderBy(\"count\", ascending=False)\n",
        "\n",
        "category_distribution.show(truncate=False)"
      ]
    },
    {
      "cell_type": "code",
      "execution_count": 101,
      "metadata": {
        "jupyter": {
          "outputs_hidden": false,
          "source_hidden": false
        },
        "nteract": {
          "transient": {
            "deleting": false
          }
        }
      },
      "outputs": [
        {
          "data": {
            "application/vnd.livy.statement-meta+json": {
              "execution_finish_time": "2024-04-01T15:40:19.9020342Z",
              "execution_start_time": "2024-04-01T15:40:17.1288828Z",
              "livy_statement_state": "available",
              "parent_msg_id": "7d63f0f2-6db2-47ec-ba4a-2ae6a0f5c6bb",
              "queued_time": "2024-04-01T15:40:17.0038762Z",
              "session_id": "4",
              "session_start_time": null,
              "spark_jobs": null,
              "spark_pool": "dtcdezcasparkp",
              "state": "finished",
              "statement_id": 103
            },
            "text/plain": [
              "StatementMeta(dtcdezcasparkp, 4, 103, Finished, Available)"
            ]
          },
          "metadata": {},
          "output_type": "display_data"
        }
      ],
      "source": [
        "output_file= 'category_distribution.csv'\n",
        "\n",
        "category_distribution.write \\\n",
        "    .format(\"csv\") \\\n",
        "    .option(\"header\", \"true\") \\\n",
        "    .mode(\"overwrite\") \\\n",
        "    .save(container_path + output_file)"
      ]
    },
    {
      "cell_type": "code",
      "execution_count": 102,
      "metadata": {
        "jupyter": {
          "outputs_hidden": false,
          "source_hidden": false
        },
        "nteract": {
          "transient": {
            "deleting": false
          }
        }
      },
      "outputs": [
        {
          "data": {
            "application/vnd.livy.statement-meta+json": {
              "execution_finish_time": "2024-04-01T15:42:16.4427383Z",
              "execution_start_time": "2024-04-01T15:42:02.3609072Z",
              "livy_statement_state": "available",
              "parent_msg_id": "1704fa44-09cc-4915-a450-20bdc870f66c",
              "queued_time": "2024-04-01T15:42:02.2081925Z",
              "session_id": "4",
              "session_start_time": null,
              "spark_jobs": null,
              "spark_pool": "dtcdezcasparkp",
              "state": "finished",
              "statement_id": 104
            },
            "text/plain": [
              "StatementMeta(dtcdezcasparkp, 4, 104, Finished, Available)"
            ]
          },
          "metadata": {},
          "output_type": "display_data"
        },
        {
          "name": "stdout",
          "output_type": "stream",
          "text": [
            "+----+-----+-----+\n",
            "|year|month|count|\n",
            "+----+-----+-----+\n",
            "|2004|   10|   53|\n",
            "|2004|   11|   14|\n",
            "|2004|   12|   23|\n",
            "|2005|    1|   24|\n",
            "|2005|    2|   29|\n",
            "|2005|    3|   51|\n",
            "|2005|    4|   72|\n",
            "|2005|    5|   69|\n",
            "|2005|    6|   64|\n",
            "|2005|    7|   97|\n",
            "|2005|    8|   95|\n",
            "|2005|    9|   71|\n",
            "|2005|   10|   75|\n",
            "|2005|   11|  113|\n",
            "|2005|   12|  177|\n",
            "|2006|    1|  269|\n",
            "|2006|    2|  235|\n",
            "|2006|    3|  329|\n",
            "|2006|    4|  318|\n",
            "|2006|    5|  275|\n",
            "+----+-----+-----+\n",
            "only showing top 20 rows\n",
            "\n"
          ]
        }
      ],
      "source": [
        "user_df = user_df.withColumn(\"yelping_since\", to_date(\"yelping_since\", \"yyyy-MM-dd\"))\n",
        "user_df = user_df.withColumn(\"year\", year(\"yelping_since\"))\n",
        "user_df = user_df.withColumn(\"month\", month(\"yelping_since\"))\n",
        "\n",
        "new_users_per_month = user_df.groupBy(\"year\", \"month\").count().orderBy(\"year\", \"month\")\n",
        "\n",
        "new_users_per_month.show()"
      ]
    },
    {
      "cell_type": "code",
      "execution_count": 103,
      "metadata": {
        "jupyter": {
          "outputs_hidden": false,
          "source_hidden": false
        },
        "nteract": {
          "transient": {
            "deleting": false
          }
        }
      },
      "outputs": [
        {
          "data": {
            "application/vnd.livy.statement-meta+json": {
              "execution_finish_time": "2024-04-01T15:43:12.7525869Z",
              "execution_start_time": "2024-04-01T15:42:57.9048542Z",
              "livy_statement_state": "available",
              "parent_msg_id": "e3587afa-9223-4988-9ea3-e30a707b7d87",
              "queued_time": "2024-04-01T15:42:57.5946282Z",
              "session_id": "4",
              "session_start_time": null,
              "spark_jobs": null,
              "spark_pool": "dtcdezcasparkp",
              "state": "finished",
              "statement_id": 105
            },
            "text/plain": [
              "StatementMeta(dtcdezcasparkp, 4, 105, Finished, Available)"
            ]
          },
          "metadata": {},
          "output_type": "display_data"
        },
        {
          "name": "stdout",
          "output_type": "stream",
          "text": [
            "+----+-------+-----+\n",
            "|year|quarter|count|\n",
            "+----+-------+-----+\n",
            "|2004|      4|   90|\n",
            "|2005|      1|  104|\n",
            "|2005|      2|  205|\n",
            "|2005|      3|  263|\n",
            "|2005|      4|  365|\n",
            "|2006|      1|  833|\n",
            "|2006|      2|  947|\n",
            "|2006|      3| 1785|\n",
            "|2006|      4| 1858|\n",
            "|2007|      1| 2916|\n",
            "|2007|      2| 3631|\n",
            "|2007|      3| 4619|\n",
            "|2007|      4| 4174|\n",
            "|2008|      1| 5913|\n",
            "|2008|      2| 6826|\n",
            "|2008|      3| 9356|\n",
            "|2008|      4| 9002|\n",
            "|2009|      1|12952|\n",
            "|2009|      2|16127|\n",
            "|2009|      3|19555|\n",
            "+----+-------+-----+\n",
            "only showing top 20 rows\n",
            "\n"
          ]
        }
      ],
      "source": [
        "user_df = user_df.withColumn(\"yelping_since\", to_date(\"yelping_since\", \"yyyy-MM-dd\"))\n",
        "user_df = user_df.withColumn(\"year\", year(\"yelping_since\"))\n",
        "user_df = user_df.withColumn(\"quarter\", quarter(\"yelping_since\"))\n",
        "\n",
        "new_users_per_quarter = user_df.groupBy(\"year\", \"quarter\").count().orderBy(\"year\", \"quarter\")\n",
        "\n",
        "new_users_per_quarter.show()"
      ]
    },
    {
      "cell_type": "code",
      "execution_count": 104,
      "metadata": {
        "jupyter": {
          "outputs_hidden": false,
          "source_hidden": false
        },
        "nteract": {
          "transient": {
            "deleting": false
          }
        }
      },
      "outputs": [
        {
          "data": {
            "application/vnd.livy.statement-meta+json": {
              "execution_finish_time": "2024-04-01T15:43:48.2658954Z",
              "execution_start_time": "2024-04-01T15:43:33.6197253Z",
              "livy_statement_state": "available",
              "parent_msg_id": "bcab7ea5-efdd-4a08-abc7-92d866f94670",
              "queued_time": "2024-04-01T15:43:33.5015241Z",
              "session_id": "4",
              "session_start_time": null,
              "spark_jobs": null,
              "spark_pool": "dtcdezcasparkp",
              "state": "finished",
              "statement_id": 106
            },
            "text/plain": [
              "StatementMeta(dtcdezcasparkp, 4, 106, Finished, Available)"
            ]
          },
          "metadata": {},
          "output_type": "display_data"
        }
      ],
      "source": [
        "output_file= 'new_users_per_quarter.csv'\n",
        "\n",
        "new_users_per_quarter.write \\\n",
        "    .format(\"csv\") \\\n",
        "    .option(\"header\", \"true\") \\\n",
        "    .mode(\"overwrite\") \\\n",
        "    .save(container_path + output_file)"
      ]
    }
  ],
  "metadata": {
    "description": null,
    "kernel_info": {
      "name": "synapse_pyspark"
    },
    "kernelspec": {
      "display_name": "Synapse PySpark",
      "language": "Python",
      "name": "synapse_pyspark"
    },
    "language_info": {
      "name": "python"
    },
    "save_output": true,
    "synapse_widget": {
      "state": {},
      "version": "0.1"
    }
  },
  "nbformat": 4,
  "nbformat_minor": 2
}
